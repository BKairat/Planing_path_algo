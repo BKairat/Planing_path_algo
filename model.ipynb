{
 "cells": [
  {
   "cell_type": "code",
   "execution_count": 1,
   "id": "4c74d896-ad61-46f5-a694-38ab9756b1ca",
   "metadata": {
    "tags": []
   },
   "outputs": [
    {
     "name": "stderr",
     "output_type": "stream",
     "text": [
      "2023-12-05 22:12:20.073277: I tensorflow/core/platform/cpu_feature_guard.cc:182] This TensorFlow binary is optimized to use available CPU instructions in performance-critical operations.\n",
      "To enable the following instructions: AVX2 FMA, in other operations, rebuild TensorFlow with the appropriate compiler flags.\n"
     ]
    }
   ],
   "source": [
    "from customDatasets import DenoiseDataset\n",
    "import tensorflow as tf\n",
    "import numpy as np\n",
    "import matplotlib.pyplot as plt"
   ]
  },
  {
   "cell_type": "code",
   "execution_count": 2,
   "id": "d925dc9f-330f-4f10-bd95-51d0d4d56afe",
   "metadata": {
    "tags": []
   },
   "outputs": [
    {
     "name": "stdout",
     "output_type": "stream",
     "text": [
      "loading train data:\n"
     ]
    },
    {
     "name": "stderr",
     "output_type": "stream",
     "text": [
      "100%|██████████████████████████████████████| 8000/8000 [00:13<00:00, 598.62it/s]\n"
     ]
    },
    {
     "name": "stdout",
     "output_type": "stream",
     "text": [
      "complete!\n",
      "loading test data:\n"
     ]
    },
    {
     "name": "stderr",
     "output_type": "stream",
     "text": [
      "100%|██████████████████████████████████████| 2000/2000 [00:03<00:00, 649.56it/s]"
     ]
    },
    {
     "name": "stdout",
     "output_type": "stream",
     "text": [
      "complete!\n"
     ]
    },
    {
     "name": "stderr",
     "output_type": "stream",
     "text": [
      "\n"
     ]
    }
   ],
   "source": [
    "ds = DenoiseDataset(root_dir = \"./datasets/denoise_simple\")\n",
    "(x_train, y_train), (x_test, y_test) = ds.load_data()"
   ]
  },
  {
   "cell_type": "code",
   "execution_count": 3,
   "id": "ad1e0c3f-2608-40ff-94af-1118b1cb18ca",
   "metadata": {
    "tags": []
   },
   "outputs": [
    {
     "data": {
      "text/plain": [
       "((8000, 64, 64), (8000, 64, 64), (2000, 64, 64), (2000, 64, 64))"
      ]
     },
     "execution_count": 3,
     "metadata": {},
     "output_type": "execute_result"
    }
   ],
   "source": [
    "x_train = np.array(x_train)/255\n",
    "y_train = np.array(y_train)/255\n",
    "x_test = np.array(x_test)/255\n",
    "y_test = np.array(y_test)/255\n",
    "x_train.shape, y_train.shape, x_test.shape, y_test.shape"
   ]
  },
  {
   "cell_type": "code",
   "execution_count": 4,
   "id": "691a8e83-bc86-4751-b7be-923ba82d3ec1",
   "metadata": {
    "tags": []
   },
   "outputs": [
    {
     "data": {
      "text/plain": [
       "((8000, 64, 64, 1), (8000, 64, 64, 1), (2000, 64, 64, 1), (2000, 64, 64, 1))"
      ]
     },
     "execution_count": 4,
     "metadata": {},
     "output_type": "execute_result"
    }
   ],
   "source": [
    "x_train = x_train.reshape(len(x_train), 64, 64, 1)\n",
    "y_train = y_train.reshape(len(y_train), 64, 64, 1)\n",
    "x_test = x_test.reshape(len(x_test), 64, 64, 1)\n",
    "y_test = y_test.reshape(len(y_test), 64, 64, 1)\n",
    "x_train.shape, y_train.shape, x_test.shape, y_test.shape"
   ]
  },
  {
   "cell_type": "code",
   "execution_count": 5,
   "id": "307ce880-5b8b-471b-8c12-0b02710aeeb2",
   "metadata": {
    "tags": []
   },
   "outputs": [
    {
     "data": {
      "image/png": "[encoded data removed]",
      "text/plain": [
       "<Figure size 640x480 with 2 Axes>"
      ]
     },
     "metadata": {},
     "output_type": "display_data"
    }
   ],
   "source": [
    "ds.show(28)"
   ]
  },
  {
   "cell_type": "code",
   "execution_count": 7,
   "id": "847e32a0-a675-4205-946e-4418232d1fc1",
   "metadata": {
    "tags": []
   },
   "outputs": [
    {
     "name": "stdout",
     "output_type": "stream",
     "text": [
      "Model: \"sequential_1\"\n",
      "_________________________________________________________________\n",
      " Layer (type)                Output Shape              Param #   \n",
      "=================================================================\n",
      " conv2d_5 (Conv2D)           (None, 64, 64, 32)        320       \n",
      "                                                                 \n",
      " max_pooling2d_2 (MaxPoolin  (None, 32, 32, 32)        0         \n",
      " g2D)                                                            \n",
      "                                                                 \n",
      " conv2d_6 (Conv2D)           (None, 32, 32, 16)        4624      \n",
      "                                                                 \n",
      " max_pooling2d_3 (MaxPoolin  (None, 16, 16, 16)        0         \n",
      " g2D)                                                            \n",
      "                                                                 \n",
      " conv2d_7 (Conv2D)           (None, 16, 16, 16)        2320      \n",
      "                                                                 \n",
      " up_sampling2d_2 (UpSamplin  (None, 32, 32, 16)        0         \n",
      " g2D)                                                            \n",
      "                                                                 \n",
      " conv2d_8 (Conv2D)           (None, 32, 32, 32)        4640      \n",
      "                                                                 \n",
      " up_sampling2d_3 (UpSamplin  (None, 64, 64, 32)        0         \n",
      " g2D)                                                            \n",
      "                                                                 \n",
      " conv2d_9 (Conv2D)           (None, 64, 64, 1)         289       \n",
      "                                                                 \n",
      "=================================================================\n",
      "Total params: 12193 (47.63 KB)\n",
      "Trainable params: 12193 (47.63 KB)\n",
      "Non-trainable params: 0 (0.00 Byte)\n",
      "_________________________________________________________________\n"
     ]
    }
   ],
   "source": [
    "denoise_model = tf.keras.Sequential([\n",
    "    #encoder\n",
    "    tf.keras.layers.Conv2D(32,3,\n",
    "                           activation=\"relu\",\n",
    "                           padding=\"same\",\n",
    "                           input_shape=(64, 64,1)),\n",
    "    tf.keras.layers.MaxPooling2D(2,padding=\"same\"),\n",
    "    tf.keras.layers.Conv2D(16,3,activation=\"relu\",padding=\"same\"),\n",
    "    tf.keras.layers.MaxPooling2D(2,padding=\"same\"),\n",
    "    #decoder\n",
    "    tf.keras.layers.Conv2D(16,3,activation=\"relu\",padding=\"same\"),\n",
    "    tf.keras.layers.UpSampling2D(2),\n",
    "    tf.keras.layers.Conv2D(32,3,activation=\"relu\",padding=\"same\"),\n",
    "    tf.keras.layers.UpSampling2D(2),\n",
    "    #output\n",
    "    tf.keras.layers.Conv2D(1,3,activation=\"sigmoid\",padding=\"same\")\n",
    "])\n",
    "\n",
    "denoise_model.compile(optimizer=\"adam\",loss=\"binary_crossentropy\")\n",
    "denoise_model.summary()"
   ]
  },
  {
   "cell_type": "code",
   "execution_count": 8,
   "id": "c0b31f99-266f-4062-80a2-02dde02f2f3f",
   "metadata": {
    "tags": []
   },
   "outputs": [
    {
     "name": "stdout",
     "output_type": "stream",
     "text": [
      "Epoch 1/120\n",
      "125/125 [==============================] - 35s 269ms/step - loss: 0.1549 - val_loss: 0.0599\n",
      "Epoch 2/120\n",
      "125/125 [==============================] - 34s 273ms/step - loss: 0.0571 - val_loss: 0.0539\n",
      "Epoch 3/120\n",
      "125/125 [==============================] - 34s 271ms/step - loss: 0.0522 - val_loss: 0.0505\n",
      "Epoch 4/120\n",
      "125/125 [==============================] - 34s 272ms/step - loss: 0.0495 - val_loss: 0.0485\n",
      "Epoch 5/120\n",
      "125/125 [==============================] - 35s 278ms/step - loss: 0.0479 - val_loss: 0.0473\n",
      "Epoch 6/120\n",
      "125/125 [==============================] - 35s 278ms/step - loss: 0.0468 - val_loss: 0.0463\n",
      "Epoch 7/120\n",
      "125/125 [==============================] - 35s 276ms/step - loss: 0.0460 - val_loss: 0.0456\n",
      "Epoch 8/120\n",
      "125/125 [==============================] - 35s 276ms/step - loss: 0.0454 - val_loss: 0.0451\n",
      "Epoch 9/120\n",
      "125/125 [==============================] - 37s 293ms/step - loss: 0.0449 - val_loss: 0.0447\n",
      "Epoch 10/120\n",
      "125/125 [==============================] - 35s 276ms/step - loss: 0.0445 - val_loss: 0.0443\n",
      "Epoch 11/120\n",
      "125/125 [==============================] - 35s 280ms/step - loss: 0.0442 - val_loss: 0.0440\n",
      "Epoch 12/120\n",
      "125/125 [==============================] - 36s 286ms/step - loss: 0.0439 - val_loss: 0.0438\n",
      "Epoch 13/120\n",
      "125/125 [==============================] - 35s 279ms/step - loss: 0.0436 - val_loss: 0.0435\n",
      "Epoch 14/120\n",
      "125/125 [==============================] - 35s 277ms/step - loss: 0.0433 - val_loss: 0.0433\n",
      "Epoch 15/120\n",
      "125/125 [==============================] - 35s 282ms/step - loss: 0.0431 - val_loss: 0.0431\n",
      "Epoch 16/120\n",
      "125/125 [==============================] - 35s 279ms/step - loss: 0.0429 - val_loss: 0.0429\n",
      "Epoch 17/120\n",
      "125/125 [==============================] - 35s 281ms/step - loss: 0.0427 - val_loss: 0.0430\n",
      "Epoch 18/120\n",
      "125/125 [==============================] - 37s 292ms/step - loss: 0.0425 - val_loss: 0.0425\n",
      "Epoch 19/120\n",
      "125/125 [==============================] - 35s 282ms/step - loss: 0.0424 - val_loss: 0.0424\n",
      "Epoch 20/120\n",
      "125/125 [==============================] - 35s 281ms/step - loss: 0.0422 - val_loss: 0.0423\n",
      "Epoch 21/120\n",
      "125/125 [==============================] - 35s 280ms/step - loss: 0.0421 - val_loss: 0.0421\n",
      "Epoch 22/120\n",
      "125/125 [==============================] - 35s 279ms/step - loss: 0.0419 - val_loss: 0.0420\n",
      "Epoch 23/120\n",
      "125/125 [==============================] - 35s 278ms/step - loss: 0.0418 - val_loss: 0.0419\n",
      "Epoch 24/120\n",
      "125/125 [==============================] - 44s 351ms/step - loss: 0.0417 - val_loss: 0.0418\n",
      "Epoch 25/120\n",
      "125/125 [==============================] - 44s 350ms/step - loss: 0.0416 - val_loss: 0.0417\n",
      "Epoch 26/120\n",
      "125/125 [==============================] - 44s 353ms/step - loss: 0.0415 - val_loss: 0.0416\n",
      "Epoch 27/120\n",
      "125/125 [==============================] - 44s 350ms/step - loss: 0.0414 - val_loss: 0.0416\n",
      "Epoch 28/120\n",
      "125/125 [==============================] - 44s 349ms/step - loss: 0.0413 - val_loss: 0.0415\n",
      "Epoch 29/120\n",
      "125/125 [==============================] - 46s 372ms/step - loss: 0.0412 - val_loss: 0.0413\n",
      "Epoch 30/120\n",
      "125/125 [==============================] - 44s 354ms/step - loss: 0.0411 - val_loss: 0.0413\n",
      "Epoch 31/120\n",
      "125/125 [==============================] - 38s 305ms/step - loss: 0.0410 - val_loss: 0.0414\n",
      "Epoch 32/120\n",
      "125/125 [==============================] - 34s 269ms/step - loss: 0.0410 - val_loss: 0.0412\n",
      "Epoch 33/120\n",
      "125/125 [==============================] - 34s 273ms/step - loss: 0.0409 - val_loss: 0.0411\n",
      "Epoch 34/120\n",
      "125/125 [==============================] - 35s 278ms/step - loss: 0.0408 - val_loss: 0.0413\n",
      "Epoch 35/120\n",
      "125/125 [==============================] - 34s 274ms/step - loss: 0.0408 - val_loss: 0.0409\n",
      "Epoch 36/120\n",
      "125/125 [==============================] - 34s 269ms/step - loss: 0.0407 - val_loss: 0.0409\n",
      "Epoch 37/120\n",
      "125/125 [==============================] - 34s 272ms/step - loss: 0.0406 - val_loss: 0.0409\n",
      "Epoch 38/120\n",
      "125/125 [==============================] - 34s 268ms/step - loss: 0.0406 - val_loss: 0.0408\n",
      "Epoch 39/120\n",
      "125/125 [==============================] - 33s 267ms/step - loss: 0.0405 - val_loss: 0.0409\n",
      "Epoch 40/120\n",
      "125/125 [==============================] - 34s 269ms/step - loss: 0.0404 - val_loss: 0.0407\n",
      "Epoch 41/120\n",
      "125/125 [==============================] - 34s 271ms/step - loss: 0.0404 - val_loss: 0.0407\n",
      "Epoch 42/120\n",
      "125/125 [==============================] - 45s 363ms/step - loss: 0.0404 - val_loss: 0.0407\n",
      "Epoch 43/120\n",
      "125/125 [==============================] - 694s 6s/step - loss: 0.0403 - val_loss: 0.0406\n",
      "Epoch 44/120\n",
      "125/125 [==============================] - 43s 343ms/step - loss: 0.0402 - val_loss: 0.0406\n",
      "Epoch 45/120\n",
      "125/125 [==============================] - 35s 280ms/step - loss: 0.0402 - val_loss: 0.0405\n",
      "Epoch 46/120\n",
      "125/125 [==============================] - 35s 277ms/step - loss: 0.0401 - val_loss: 0.0405\n",
      "Epoch 47/120\n",
      "125/125 [==============================] - 34s 274ms/step - loss: 0.0401 - val_loss: 0.0404\n",
      "Epoch 48/120\n",
      "125/125 [==============================] - 34s 274ms/step - loss: 0.0401 - val_loss: 0.0404\n",
      "Epoch 49/120\n",
      "125/125 [==============================] - 37s 294ms/step - loss: 0.0400 - val_loss: 0.0404\n",
      "Epoch 50/120\n",
      "125/125 [==============================] - 35s 281ms/step - loss: 0.0400 - val_loss: 0.0403\n",
      "Epoch 51/120\n",
      "125/125 [==============================] - 35s 280ms/step - loss: 0.0400 - val_loss: 0.0403\n",
      "Epoch 52/120\n",
      "125/125 [==============================] - 36s 284ms/step - loss: 0.0399 - val_loss: 0.0403\n",
      "Epoch 53/120\n",
      "125/125 [==============================] - 38s 305ms/step - loss: 0.0399 - val_loss: 0.0402\n",
      "Epoch 54/120\n",
      "125/125 [==============================] - 35s 280ms/step - loss: 0.0398 - val_loss: 0.0404\n",
      "Epoch 55/120\n",
      "125/125 [==============================] - 37s 295ms/step - loss: 0.0398 - val_loss: 0.0402\n",
      "Epoch 56/120\n",
      "125/125 [==============================] - 35s 284ms/step - loss: 0.0398 - val_loss: 0.0401\n",
      "Epoch 57/120\n",
      "125/125 [==============================] - 36s 285ms/step - loss: 0.0397 - val_loss: 0.0401\n",
      "Epoch 58/120\n",
      "125/125 [==============================] - 36s 285ms/step - loss: 0.0397 - val_loss: 0.0402\n",
      "Epoch 59/120\n",
      "125/125 [==============================] - 36s 284ms/step - loss: 0.0396 - val_loss: 0.0401\n",
      "Epoch 60/120\n",
      "125/125 [==============================] - 36s 285ms/step - loss: 0.0396 - val_loss: 0.0400\n",
      "Epoch 61/120\n",
      "125/125 [==============================] - 40s 320ms/step - loss: 0.0396 - val_loss: 0.0401\n",
      "Epoch 62/120\n",
      "125/125 [==============================] - 35s 283ms/step - loss: 0.0396 - val_loss: 0.0401\n",
      "Epoch 63/120\n",
      "125/125 [==============================] - 35s 284ms/step - loss: 0.0396 - val_loss: 0.0400\n",
      "Epoch 64/120\n",
      "125/125 [==============================] - 35s 281ms/step - loss: 0.0395 - val_loss: 0.0399\n",
      "Epoch 65/120\n",
      "125/125 [==============================] - 36s 285ms/step - loss: 0.0395 - val_loss: 0.0401\n",
      "Epoch 66/120\n",
      "125/125 [==============================] - 35s 282ms/step - loss: 0.0395 - val_loss: 0.0400\n",
      "Epoch 67/120\n",
      "125/125 [==============================] - 35s 281ms/step - loss: 0.0395 - val_loss: 0.0399\n",
      "Epoch 68/120\n",
      "125/125 [==============================] - 37s 298ms/step - loss: 0.0394 - val_loss: 0.0399\n",
      "Epoch 69/120\n",
      "125/125 [==============================] - 36s 290ms/step - loss: 0.0394 - val_loss: 0.0399\n",
      "Epoch 70/120\n",
      "125/125 [==============================] - 41s 325ms/step - loss: 0.0394 - val_loss: 0.0400\n",
      "Epoch 71/120\n",
      "125/125 [==============================] - 37s 299ms/step - loss: 0.0394 - val_loss: 0.0399\n",
      "Epoch 72/120\n",
      "125/125 [==============================] - 36s 286ms/step - loss: 0.0394 - val_loss: 0.0398\n",
      "Epoch 73/120\n",
      "125/125 [==============================] - 37s 293ms/step - loss: 0.0393 - val_loss: 0.0398\n",
      "Epoch 74/120\n",
      "125/125 [==============================] - 36s 288ms/step - loss: 0.0393 - val_loss: 0.0398\n",
      "Epoch 75/120\n",
      "125/125 [==============================] - 36s 288ms/step - loss: 0.0393 - val_loss: 0.0399\n",
      "Epoch 76/120\n",
      "125/125 [==============================] - 36s 285ms/step - loss: 0.0393 - val_loss: 0.0398\n",
      "Epoch 77/120\n",
      "125/125 [==============================] - 35s 282ms/step - loss: 0.0393 - val_loss: 0.0397\n",
      "Epoch 78/120\n",
      "125/125 [==============================] - 35s 283ms/step - loss: 0.0392 - val_loss: 0.0398\n",
      "Epoch 79/120\n",
      "125/125 [==============================] - 35s 284ms/step - loss: 0.0392 - val_loss: 0.0398\n",
      "Epoch 80/120\n",
      "125/125 [==============================] - 36s 285ms/step - loss: 0.0392 - val_loss: 0.0397\n",
      "Epoch 81/120\n",
      "125/125 [==============================] - 38s 304ms/step - loss: 0.0392 - val_loss: 0.0397\n",
      "Epoch 82/120\n",
      "125/125 [==============================] - 39s 312ms/step - loss: 0.0392 - val_loss: 0.0400\n",
      "Epoch 83/120\n",
      "125/125 [==============================] - 40s 321ms/step - loss: 0.0392 - val_loss: 0.0399\n",
      "Epoch 84/120\n",
      "125/125 [==============================] - 37s 295ms/step - loss: 0.0391 - val_loss: 0.0397\n",
      "Epoch 85/120\n",
      "125/125 [==============================] - 35s 282ms/step - loss: 0.0391 - val_loss: 0.0397\n",
      "Epoch 86/120\n",
      "125/125 [==============================] - 35s 284ms/step - loss: 0.0391 - val_loss: 0.0397\n",
      "Epoch 87/120\n",
      "125/125 [==============================] - 41s 330ms/step - loss: 0.0391 - val_loss: 0.0397\n",
      "Epoch 88/120\n",
      "125/125 [==============================] - 41s 328ms/step - loss: 0.0391 - val_loss: 0.0396\n",
      "Epoch 89/120\n",
      "125/125 [==============================] - 36s 286ms/step - loss: 0.0390 - val_loss: 0.0396\n",
      "Epoch 90/120\n",
      "125/125 [==============================] - 36s 285ms/step - loss: 0.0390 - val_loss: 0.0397\n",
      "Epoch 91/120\n",
      "125/125 [==============================] - 36s 285ms/step - loss: 0.0390 - val_loss: 0.0396\n",
      "Epoch 92/120\n",
      "125/125 [==============================] - 37s 293ms/step - loss: 0.0390 - val_loss: 0.0396\n",
      "Epoch 93/120\n",
      "125/125 [==============================] - 37s 294ms/step - loss: 0.0390 - val_loss: 0.0396\n",
      "Epoch 94/120\n",
      "125/125 [==============================] - 37s 297ms/step - loss: 0.0390 - val_loss: 0.0396\n",
      "Epoch 95/120\n",
      "125/125 [==============================] - 36s 286ms/step - loss: 0.0390 - val_loss: 0.0395\n",
      "Epoch 96/120\n",
      "125/125 [==============================] - 36s 285ms/step - loss: 0.0390 - val_loss: 0.0397\n",
      "Epoch 97/120\n",
      "125/125 [==============================] - 36s 288ms/step - loss: 0.0389 - val_loss: 0.0398\n",
      "Epoch 98/120\n",
      "125/125 [==============================] - 38s 307ms/step - loss: 0.0389 - val_loss: 0.0396\n",
      "Epoch 99/120\n",
      "125/125 [==============================] - 38s 304ms/step - loss: 0.0389 - val_loss: 0.0396\n",
      "Epoch 100/120\n",
      "125/125 [==============================] - 35s 282ms/step - loss: 0.0389 - val_loss: 0.0395\n",
      "Epoch 101/120\n",
      "125/125 [==============================] - 37s 288ms/step - loss: 0.0389 - val_loss: 0.0395\n",
      "Epoch 102/120\n",
      "125/125 [==============================] - 36s 290ms/step - loss: 0.0389 - val_loss: 0.0395\n",
      "Epoch 103/120\n",
      "125/125 [==============================] - 36s 287ms/step - loss: 0.0389 - val_loss: 0.0396\n",
      "Epoch 104/120\n",
      "125/125 [==============================] - 37s 294ms/step - loss: 0.0389 - val_loss: 0.0395\n",
      "Epoch 105/120\n",
      "125/125 [==============================] - 36s 286ms/step - loss: 0.0389 - val_loss: 0.0394\n",
      "Epoch 106/120\n",
      "125/125 [==============================] - 36s 285ms/step - loss: 0.0388 - val_loss: 0.0395\n",
      "Epoch 107/120\n",
      "125/125 [==============================] - 36s 286ms/step - loss: 0.0388 - val_loss: 0.0395\n",
      "Epoch 108/120\n",
      "125/125 [==============================] - 36s 284ms/step - loss: 0.0388 - val_loss: 0.0395\n",
      "Epoch 109/120\n",
      "125/125 [==============================] - 36s 284ms/step - loss: 0.0388 - val_loss: 0.0397\n",
      "Epoch 110/120\n",
      "125/125 [==============================] - 35s 283ms/step - loss: 0.0388 - val_loss: 0.0395\n",
      "Epoch 111/120\n",
      "125/125 [==============================] - 39s 311ms/step - loss: 0.0388 - val_loss: 0.0395\n",
      "Epoch 112/120\n",
      "125/125 [==============================] - 36s 286ms/step - loss: 0.0388 - val_loss: 0.0395\n",
      "Epoch 113/120\n",
      "125/125 [==============================] - 36s 287ms/step - loss: 0.0388 - val_loss: 0.0394\n",
      "Epoch 114/120\n",
      "125/125 [==============================] - 36s 285ms/step - loss: 0.0387 - val_loss: 0.0394\n",
      "Epoch 115/120\n",
      "125/125 [==============================] - 35s 284ms/step - loss: 0.0388 - val_loss: 0.0397\n",
      "Epoch 116/120\n",
      "125/125 [==============================] - 35s 284ms/step - loss: 0.0387 - val_loss: 0.0394\n",
      "Epoch 117/120\n",
      "125/125 [==============================] - 35s 281ms/step - loss: 0.0387 - val_loss: 0.0395\n",
      "Epoch 118/120\n",
      "125/125 [==============================] - 37s 293ms/step - loss: 0.0387 - val_loss: 0.0394\n",
      "Epoch 119/120\n",
      "125/125 [==============================] - 37s 293ms/step - loss: 0.0387 - val_loss: 0.0394\n",
      "Epoch 120/120\n",
      "125/125 [==============================] - 38s 307ms/step - loss: 0.0387 - val_loss: 0.0394\n"
     ]
    },
    {
     "data": {
      "text/plain": [
       "<keras.src.callbacks.History at 0x13624cb50>"
      ]
     },
     "execution_count": 8,
     "metadata": {},
     "output_type": "execute_result"
    }
   ],
   "source": [
    "denoise_model.fit(x_train, y_train, epochs=120, batch_size=64, validation_data=(x_test, y_test))"
   ]
  },
  {
   "cell_type": "code",
   "execution_count": 9,
   "id": "22216e2c-b1f2-42cb-9b6c-a49670655b55",
   "metadata": {
    "tags": []
   },
   "outputs": [
    {
     "name": "stdout",
     "output_type": "stream",
     "text": [
      "63/63 [==============================] - 2s 33ms/step\n"
     ]
    }
   ],
   "source": [
    "pred = denoise_model.predict(x_test)"
   ]
  },
  {
   "cell_type": "code",
   "execution_count": 16,
   "id": "da3a637d-43c2-4814-ba8f-f2bfec0ff37a",
   "metadata": {
    "tags": []
   },
   "outputs": [
    {
     "data": {
      "image/png": "[encoded data removed]",
      "text/plain": [
       "<Figure size 640x480 with 3 Axes>"
      ]
     },
     "metadata": {},
     "output_type": "display_data"
    }
   ],
   "source": [
    "from random import randint\n",
    "index = randint(0,1999)\n",
    "fig, axis = plt.subplots(1, 3)\n",
    "\n",
    "axis[0].imshow(x_test[index])\n",
    "axis[1].imshow(pred[index])\n",
    "axis[2].imshow(y_test[index])\n",
    "plt.gray()"
   ]
  },
  {
   "cell_type": "code",
   "execution_count": null,
   "id": "d30ba40e-b3d1-4dfc-8c68-89d0832938de",
   "metadata": {},
   "outputs": [],
   "source": [
    "denoise_model.save(\"pretrained_models/denoise_model_\")"
   ]
  },
  {
   "cell_type": "code",
   "execution_count": null,
   "id": "354833f5-060c-430e-8f32-a455efc5aaab",
   "metadata": {},
   "outputs": [],
   "source": []
  }
 ],
 "metadata": {
  "kernelspec": {
   "display_name": "Python 3 (ipykernel)",
   "language": "python",
   "name": "python3"
  },
  "language_info": {
   "codemirror_mode": {
    "name": "ipython",
    "version": 3
   },
   "file_extension": ".py",
   "mimetype": "text/x-python",
   "name": "python",
   "nbconvert_exporter": "python",
   "pygments_lexer": "ipython3",
   "version": "3.11.5"
  }
 },
 "nbformat": 4,
 "nbformat_minor": 5
}
