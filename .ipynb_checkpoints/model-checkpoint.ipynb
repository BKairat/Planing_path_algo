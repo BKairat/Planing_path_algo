{
 "cells": [
  {
   "cell_type": "code",
   "execution_count": 16,
   "id": "4c74d896-ad61-46f5-a694-38ab9756b1ca",
   "metadata": {
    "tags": []
   },
   "outputs": [],
   "source": [
    "from customDatasets import DenoiseDataset\n",
    "import tensorflow as tf\n",
    "import numpy as np\n",
    "import matplotlib.pyplot as plt"
   ]
  },
  {
   "cell_type": "code",
   "execution_count": 4,
   "id": "d925dc9f-330f-4f10-bd95-51d0d4d56afe",
   "metadata": {
    "tags": []
   },
   "outputs": [
    {
     "name": "stdout",
     "output_type": "stream",
     "text": [
      "loading train data:\n"
     ]
    },
    {
     "name": "stderr",
     "output_type": "stream",
     "text": [
      "100%|██████████████████████████████████████| 8000/8000 [00:12<00:00, 630.55it/s]\n"
     ]
    },
    {
     "name": "stdout",
     "output_type": "stream",
     "text": [
      "complete!\n",
      "loading test data:\n"
     ]
    },
    {
     "name": "stderr",
     "output_type": "stream",
     "text": [
      "100%|██████████████████████████████████████| 2000/2000 [00:03<00:00, 609.91it/s]"
     ]
    },
    {
     "name": "stdout",
     "output_type": "stream",
     "text": [
      "complete!\n"
     ]
    },
    {
     "name": "stderr",
     "output_type": "stream",
     "text": [
      "\n"
     ]
    }
   ],
   "source": [
    "ds = DenoiseDataset()\n",
    "(x_train, y_train), (x_test, y_test) = ds.load_data()"
   ]
  },
  {
   "cell_type": "code",
   "execution_count": 10,
   "id": "ad1e0c3f-2608-40ff-94af-1118b1cb18ca",
   "metadata": {
    "tags": []
   },
   "outputs": [
    {
     "data": {
      "text/plain": [
       "((8000, 64, 64), (8000, 64, 64), (2000, 64, 64), (2000, 64, 64))"
      ]
     },
     "execution_count": 10,
     "metadata": {},
     "output_type": "execute_result"
    }
   ],
   "source": [
    "x_train = np.array(x_train)\n",
    "y_train = np.array(y_train)\n",
    "x_test = np.array(x_test)\n",
    "y_test = np.array(y_test)\n",
    "x_train.shape, y_train.shape, x_test.shape, y_test.shape"
   ]
  },
  {
   "cell_type": "code",
   "execution_count": 11,
   "id": "691a8e83-bc86-4751-b7be-923ba82d3ec1",
   "metadata": {
    "tags": []
   },
   "outputs": [
    {
     "data": {
      "text/plain": [
       "((8000, 64, 64, 1), (8000, 64, 64, 1), (2000, 64, 64, 1), (2000, 64, 64, 1))"
      ]
     },
     "execution_count": 11,
     "metadata": {},
     "output_type": "execute_result"
    }
   ],
   "source": [
    "x_train = x_train.reshape(len(x_train), 64, 64, 1)\n",
    "y_train = y_train.reshape(len(y_train), 64, 64, 1)\n",
    "x_test = x_test.reshape(len(x_test), 64, 64, 1)\n",
    "y_test = y_test.reshape(len(y_test), 64, 64, 1)\n",
    "x_train.shape, y_train.shape, x_test.shape, y_test.shape"
   ]
  },
  {
   "cell_type": "code",
   "execution_count": 12,
   "id": "847e32a0-a675-4205-946e-4418232d1fc1",
   "metadata": {
    "tags": []
   },
   "outputs": [
    {
     "name": "stdout",
     "output_type": "stream",
     "text": [
      "Model: \"sequential\"\n",
      "_________________________________________________________________\n",
      " Layer (type)                Output Shape              Param #   \n",
      "=================================================================\n",
      " conv2d (Conv2D)             (None, 64, 64, 32)        320       \n",
      "                                                                 \n",
      " max_pooling2d (MaxPooling2  (None, 32, 32, 32)        0         \n",
      " D)                                                              \n",
      "                                                                 \n",
      " conv2d_1 (Conv2D)           (None, 32, 32, 16)        4624      \n",
      "                                                                 \n",
      " max_pooling2d_1 (MaxPoolin  (None, 16, 16, 16)        0         \n",
      " g2D)                                                            \n",
      "                                                                 \n",
      " conv2d_2 (Conv2D)           (None, 16, 16, 16)        2320      \n",
      "                                                                 \n",
      " up_sampling2d (UpSampling2  (None, 32, 32, 16)        0         \n",
      " D)                                                              \n",
      "                                                                 \n",
      " conv2d_3 (Conv2D)           (None, 32, 32, 32)        4640      \n",
      "                                                                 \n",
      " up_sampling2d_1 (UpSamplin  (None, 64, 64, 32)        0         \n",
      " g2D)                                                            \n",
      "                                                                 \n",
      " conv2d_4 (Conv2D)           (None, 64, 64, 1)         289       \n",
      "                                                                 \n",
      "=================================================================\n",
      "Total params: 12193 (47.63 KB)\n",
      "Trainable params: 12193 (47.63 KB)\n",
      "Non-trainable params: 0 (0.00 Byte)\n",
      "_________________________________________________________________\n"
     ]
    }
   ],
   "source": [
    "denoise_model = tf.keras.Sequential([\n",
    "    #encoder\n",
    "    tf.keras.layers.Conv2D(32,3,\n",
    "                           activation=\"relu\",\n",
    "                           padding=\"same\",\n",
    "                           input_shape=(64, 64,1)),\n",
    "    tf.keras.layers.MaxPooling2D(2,padding=\"same\"),\n",
    "    tf.keras.layers.Conv2D(16,3,activation=\"relu\",padding=\"same\"),\n",
    "    tf.keras.layers.MaxPooling2D(2,padding=\"same\"),\n",
    "    #decoder\n",
    "    tf.keras.layers.Conv2D(16,3,activation=\"relu\",padding=\"same\"),\n",
    "    tf.keras.layers.UpSampling2D(2),\n",
    "    tf.keras.layers.Conv2D(32,3,activation=\"relu\",padding=\"same\"),\n",
    "    tf.keras.layers.UpSampling2D(2),\n",
    "    #output\n",
    "    tf.keras.layers.Conv2D(1,3,activation=\"sigmoid\",padding=\"same\")\n",
    "])\n",
    "\n",
    "denoise_model.compile(optimizer=\"adam\",loss=\"binary_crossentropy\")\n",
    "denoise_model.summary()"
   ]
  },
  {
   "cell_type": "code",
   "execution_count": 14,
   "id": "c0b31f99-266f-4062-80a2-02dde02f2f3f",
   "metadata": {
    "tags": []
   },
   "outputs": [
    {
     "name": "stdout",
     "output_type": "stream",
     "text": [
      "Epoch 1/20\n",
      "32/32 [==============================] - 42s 1s/step - loss: 0.3457 - val_loss: 0.0593\n",
      "Epoch 2/20\n",
      "32/32 [==============================] - 39s 1s/step - loss: 0.0435 - val_loss: 0.0271\n",
      "Epoch 3/20\n",
      "32/32 [==============================] - 37s 1s/step - loss: 0.0223 - val_loss: 0.0164\n",
      "Epoch 4/20\n",
      "32/32 [==============================] - 37s 1s/step - loss: 0.0127 - val_loss: 0.0104\n",
      "Epoch 5/20\n",
      "32/32 [==============================] - 36s 1s/step - loss: 0.0097 - val_loss: 0.0093\n",
      "Epoch 6/20\n",
      "32/32 [==============================] - 36s 1s/step - loss: 0.0091 - val_loss: 0.0089\n",
      "Epoch 7/20\n",
      "32/32 [==============================] - 36s 1s/step - loss: 0.0087 - val_loss: 0.0087\n",
      "Epoch 8/20\n",
      "32/32 [==============================] - 36s 1s/step - loss: 0.0085 - val_loss: 0.0085\n",
      "Epoch 9/20\n",
      "32/32 [==============================] - 37s 1s/step - loss: 0.0084 - val_loss: 0.0084\n",
      "Epoch 10/20\n",
      "32/32 [==============================] - 36s 1s/step - loss: 0.0083 - val_loss: 0.0083\n",
      "Epoch 11/20\n",
      "32/32 [==============================] - 35s 1s/step - loss: 0.0083 - val_loss: 0.0083\n",
      "Epoch 12/20\n",
      "32/32 [==============================] - 42s 1s/step - loss: 0.0082 - val_loss: 0.0082\n",
      "Epoch 13/20\n",
      "32/32 [==============================] - 36s 1s/step - loss: 0.0082 - val_loss: 0.0082\n",
      "Epoch 14/20\n",
      "32/32 [==============================] - 37s 1s/step - loss: 0.0081 - val_loss: 0.0081\n",
      "Epoch 15/20\n",
      "32/32 [==============================] - 36s 1s/step - loss: 0.0081 - val_loss: 0.0081\n",
      "Epoch 16/20\n",
      "32/32 [==============================] - 36s 1s/step - loss: 0.0080 - val_loss: 0.0080\n",
      "Epoch 17/20\n",
      "32/32 [==============================] - 36s 1s/step - loss: 0.0080 - val_loss: 0.0080\n",
      "Epoch 18/20\n",
      "32/32 [==============================] - 37s 1s/step - loss: 0.0079 - val_loss: 0.0080\n",
      "Epoch 19/20\n",
      "32/32 [==============================] - 36s 1s/step - loss: 0.0079 - val_loss: 0.0079\n",
      "Epoch 20/20\n",
      "32/32 [==============================] - 36s 1s/step - loss: 0.0079 - val_loss: 0.0079\n"
     ]
    },
    {
     "data": {
      "text/plain": [
       "<keras.src.callbacks.History at 0x137a5b450>"
      ]
     },
     "execution_count": 14,
     "metadata": {},
     "output_type": "execute_result"
    }
   ],
   "source": [
    "denoise_model.fit(x_train, y_train, epochs=20, batch_size=256, validation_data=(x_test, y_test))"
   ]
  },
  {
   "cell_type": "code",
   "execution_count": 15,
   "id": "22216e2c-b1f2-42cb-9b6c-a49670655b55",
   "metadata": {
    "tags": []
   },
   "outputs": [
    {
     "name": "stdout",
     "output_type": "stream",
     "text": [
      "63/63 [==============================] - 2s 32ms/step\n"
     ]
    }
   ],
   "source": [
    "pred = denoise_model.predict(x_test)"
   ]
  },
  {
   "cell_type": "code",
   "execution_count": 17,
   "id": "da3a637d-43c2-4814-ba8f-f2bfec0ff37a",
   "metadata": {
    "tags": []
   },
   "outputs": [
    {
     "data": {
      "image/png": "[encoded data removed]",
      "text/plain": [
       "<Figure size 640x480 with 1 Axes>"
      ]
     },
     "metadata": {},
     "output_type": "display_data"
    }
   ],
   "source": [
    "index = 40\n",
    "plt.imshow(x_test[index])\n",
    "plt.gray()"
   ]
  },
  {
   "cell_type": "code",
   "execution_count": 18,
   "id": "e6a3b77d-ea2a-4cbd-b93c-1d4a0b803db1",
   "metadata": {
    "tags": []
   },
   "outputs": [
    {
     "data": {
      "image/png": "[encoded data removed]",
      "text/plain": [
       "<Figure size 640x480 with 1 Axes>"
      ]
     },
     "metadata": {},
     "output_type": "display_data"
    }
   ],
   "source": [
    "plt.imshow(pred[index])\n",
    "plt.gray()"
   ]
  },
  {
   "cell_type": "code",
   "execution_count": 19,
   "id": "79145fc8-7d8a-421a-86d1-3a057cfc02e4",
   "metadata": {
    "tags": []
   },
   "outputs": [
    {
     "data": {
      "image/png": "[encoded data removed]",
      "text/plain": [
       "<Figure size 640x480 with 1 Axes>"
      ]
     },
     "metadata": {},
     "output_type": "display_data"
    }
   ],
   "source": [
    "plt.imshow(y_test[index])\n",
    "plt.gray()"
   ]
  },
  {
   "cell_type": "code",
   "execution_count": null,
   "id": "254b7dff-55ab-4499-adc5-71031dde8d2e",
   "metadata": {},
   "outputs": [],
   "source": []
  }
 ],
 "metadata": {
  "kernelspec": {
   "display_name": "Python 3 (ipykernel)",
   "language": "python",
   "name": "python3"
  },
  "language_info": {
   "codemirror_mode": {
    "name": "ipython",
    "version": 3
   },
   "file_extension": ".py",
   "mimetype": "text/x-python",
   "name": "python",
   "nbconvert_exporter": "python",
   "pygments_lexer": "ipython3",
   "version": "3.11.5"
  }
 },
 "nbformat": 4,
 "nbformat_minor": 5
}
